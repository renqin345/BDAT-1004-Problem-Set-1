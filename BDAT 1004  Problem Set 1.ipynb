{
 "cells": [
  {
   "cell_type": "markdown",
   "id": "249688d6",
   "metadata": {},
   "source": [
    "## Question 1\n",
    "What data type is each of the following (evaluate where necessary)?\n",
    "\n",
    "- 5\n",
    "- 5.0\n",
    "- 5 > 1\n",
    "- '5'\n",
    "- 5 * 2\n",
    "- '5' * 2\n",
    "- '5' + '2'\n",
    "- 5 / 2\n",
    "- 5 % 2\n",
    "- {5, 2, 1}\n",
    "- 5 == 3\n",
    "- Pi (the number)\n",
    "\n"
   ]
  },
  {
   "cell_type": "code",
   "execution_count": 7,
   "id": "3ad2cecc",
   "metadata": {},
   "outputs": [],
   "source": [
    "a = 5\n",
    "b = 5.0\n",
    "c = 5 > 1\n",
    "d = '5'\n",
    "e = 5 * 2\n",
    "f = '5' * 2\n",
    "g = '5' + '2'\n",
    "h = 5 / 2\n",
    "i = 5 % 2\n",
    "j = {5, 2, 1}\n",
    "k = 5 == 3\n",
    "l = math.pi"
   ]
  },
  {
   "cell_type": "code",
   "execution_count": 11,
   "id": "d59318c2",
   "metadata": {},
   "outputs": [
    {
     "name": "stdout",
     "output_type": "stream",
     "text": [
      "<class 'int'>\n",
      "<class 'float'>\n",
      "<class 'bool'>\n",
      "<class 'str'>\n",
      "<class 'int'>\n",
      "<class 'str'>\n",
      "<class 'str'>\n",
      "<class 'float'>\n",
      "<class 'int'>\n",
      "<class 'set'>\n",
      "<class 'bool'>\n",
      "<class 'float'>\n"
     ]
    }
   ],
   "source": [
    "print(type(a))\n",
    "print(type(b))\n",
    "print(type(c))\n",
    "print(type(d))\n",
    "print(type(e))\n",
    "print(type(f))\n",
    "print(type(g))\n",
    "print(type(h))\n",
    "print(type(i))\n",
    "print(type(j))\n",
    "print(type(k))\n",
    "print(type(l))"
   ]
  },
  {
   "cell_type": "code",
   "execution_count": 12,
   "id": "86a2e01e",
   "metadata": {},
   "outputs": [
    {
     "name": "stdout",
     "output_type": "stream",
     "text": [
      "5\n",
      "5.0\n",
      "True\n",
      "5\n",
      "10\n",
      "55\n",
      "52\n",
      "2.5\n",
      "1\n",
      "{1, 2, 5}\n",
      "False\n",
      "3.141592653589793\n"
     ]
    }
   ],
   "source": [
    "print(a)\n",
    "print(b)\n",
    "print(c)\n",
    "print(d)\n",
    "print(e)\n",
    "print(f)\n",
    "print(g)\n",
    "print(h)\n",
    "print(i)\n",
    "print(j)\n",
    "print(k)\n",
    "print(l)"
   ]
  },
  {
   "cell_type": "markdown",
   "id": "20868dbd",
   "metadata": {},
   "source": [
    "## Question 2\n",
    "Write (and evaluate) python expressions that answer these questions:\n",
    "- a.\tHow many letters are there in 'Supercalifragilisticexpialidocious'?\n",
    "- b.\tDoes 'Supercalifragilisticexpialidocious' contain 'ice' as a substring?\n",
    "- c.\tWhich of the following words is the longest: Supercalifragilisticexpialidocious, Honorificabilitudinitatibus, or Bababadalgharaghtakamminarronnkonn?\n",
    "- d.\tWhich composer comes first in the dictionary: 'Berlioz', 'Borodin', 'Brian', 'Bartok', 'Bellini', 'Buxtehude', 'Bernstein'. Which one comes last?\n"
   ]
  },
  {
   "cell_type": "code",
   "execution_count": 48,
   "id": "837d6f89",
   "metadata": {},
   "outputs": [
    {
     "name": "stdout",
     "output_type": "stream",
     "text": [
      "34\n"
     ]
    }
   ],
   "source": [
    "print(len('Supercalifragilisticexpialidocious'))"
   ]
  },
  {
   "cell_type": "code",
   "execution_count": 46,
   "id": "bb538c83",
   "metadata": {},
   "outputs": [
    {
     "name": "stdout",
     "output_type": "stream",
     "text": [
      "True\n"
     ]
    }
   ],
   "source": [
    "print('ice' in 'Supercalifragilisticexpialidocious' )\n"
   ]
  },
  {
   "cell_type": "code",
   "execution_count": 12,
   "id": "e789fda6",
   "metadata": {},
   "outputs": [
    {
     "name": "stdout",
     "output_type": "stream",
     "text": [
      "The longest word is:Supercalifragilisticexpialidocious\n"
     ]
    }
   ],
   "source": [
    "words=[\"Supercalifragilisticexpialidocious\", \"Honorificabilitudinitatibus\",\"Bababadalgharaghtakamminarronnkonn\"]\n",
    "\n",
    "longest_word = [\"\"]\n",
    "\n",
    "for word in words:\n",
    "\n",
    "  if len(word) > len(longest_word):\n",
    "    \n",
    "    longest_word = word\n",
    "\n",
    "print(f\"The longest word is:{longest_word}\")"
   ]
  },
  {
   "cell_type": "code",
   "execution_count": 13,
   "id": "5a6e7865",
   "metadata": {},
   "outputs": [
    {
     "name": "stdout",
     "output_type": "stream",
     "text": [
      "['Bartok', 'Bellini', 'Berlioz', 'Bernstein', 'Borodin', 'Brian', 'Buxtehude']\n"
     ]
    }
   ],
   "source": [
    "x = ['Berlioz', 'Borodin', 'Brian', 'Bartok', 'Bellini', 'Buxtehude', 'Bernstein']\n",
    "\n",
    "y=sorted(x)\n",
    "\n",
    "print(y)"
   ]
  },
  {
   "cell_type": "markdown",
   "id": "b59a9e34",
   "metadata": {},
   "source": [
    "## Question 3\n",
    "Implement function triangleArea(a,b,c) that takes as input the lengths of the 3 sides of a triangle and returns the area of the triangle. By Heron's formula, the area of a triangle with side lengths a, b, and c is \\$\\sqrt{s(s - a)(s - b)(s - c)}$ <br>\n",
    "where s = (a + b + c)/2. <br>\n",
    "triangleArea(2,2,2) <br>\n",
    "1.7320508075688772"
   ]
  },
  {
   "cell_type": "code",
   "execution_count": 76,
   "id": "3dae175e",
   "metadata": {},
   "outputs": [
    {
     "name": "stdout",
     "output_type": "stream",
     "text": [
      "1.7320508075688772\n"
     ]
    }
   ],
   "source": [
    "import math\n",
    "\n",
    "def triangleArea(a,b,c):\n",
    "    \n",
    "    s = (a + b + c)/2  # Calculate the semi-perimeter\n",
    "    \n",
    "    area = math.sqrt(𝑠*(𝑠-𝑎)*(𝑠-𝑏)*(𝑠-𝑐))  #  using Heron's formula to calculate the area.\n",
    "    \n",
    "    return area  # Return the calculated area\n",
    "    \n",
    "print(triangleArea(2,2,2))   # Calculate and print the area of a triangle with certain number.\n",
    "    "
   ]
  },
  {
   "cell_type": "markdown",
   "id": "28f10c99",
   "metadata": {},
   "source": [
    "## Question 4\n",
    "Write a program in python to separate odd and even integers in separate arrays. Go to the editor<br>\n",
    "Test Data :<br>\n",
    "Input the number of elements to be stored in the array :5 Input 5 elements in the array :<br>\n",
    "element - 0 : 25<br>\n",
    "element - 1 : 47<br>\n",
    "element - 2 : 42<br>\n",
    "element - 3 : 56<br>\n",
    "element - 4 : 32 Expected Output:<br>\n",
    "The Even elements are: 42 56 32<br>\n",
    "The Odd elements are : 25 47<br>"
   ]
  },
  {
   "cell_type": "code",
   "execution_count": 35,
   "id": "02eb465f",
   "metadata": {},
   "outputs": [
    {
     "name": "stdout",
     "output_type": "stream",
     "text": [
      "The Even elements are: [42, 56, 32]\n",
      "The Odd elements are: [25, 47]\n"
     ]
    }
   ],
   "source": [
    "list = [25, 47, 42, 56, 32]\n",
    "\n",
    "even_elements = []\n",
    "\n",
    "odd_elements = []\n",
    "\n",
    "for i in list:\n",
    "    \n",
    "    if i % 2 == 0:   # Check if the current element (i) is divisible by 2, if it is, then it is even.\n",
    "        \n",
    "        even_elements.append(i)  # Append the even element to the even_elements list.\n",
    "        \n",
    "    else:\n",
    "        \n",
    "        odd_elements.append(i)  # Append the even element to the odd_elements list.\n",
    "\n",
    "print(\"The Even elements are:\", even_elements)\n",
    "\n",
    "print(\"The Odd elements are:\", odd_elements)"
   ]
  },
  {
   "cell_type": "markdown",
   "id": "fc27e966",
   "metadata": {},
   "source": [
    "## Question 5\n",
    "a.\tWrite a function inside(x,y,x1,y1,x2,y2) that returns True or False depending on whether the point (x,y) lies in the rectangle with lower left corner (x1,y1) and upper right corner (x2,y2).\n",
    "\n",
    "inside(1,1,0,0,2,3)<br>\n",
    "True<br>\n",
    "inside(-1,-1,0,0,2,3)<br>\n",
    "False<br>\n",
    "b.\tUse function inside() from part a. to write an expression that tests whether the point (1,1) lies in both of the following rectangles: one with lower left corner (0.3, 0.5) and upper right corner (1.1, 0.7) and the other with lower left corner (0.5, 0.2) and upper right corner (1.1, 2).\n"
   ]
  },
  {
   "cell_type": "code",
   "execution_count": 22,
   "id": "845e806a",
   "metadata": {},
   "outputs": [
    {
     "name": "stdout",
     "output_type": "stream",
     "text": [
      "True\n",
      "False\n"
     ]
    }
   ],
   "source": [
    "## a\n",
    "\n",
    "def inside(x, y, x1, y1, x2, y2):\n",
    "    \n",
    "    if x >= x1 and x <= x2 and y >= y1 and y <= y2:   # Check if x & y coordinates are within the specified range.\n",
    "        \n",
    "        return True    # Return True if coordinates are inside the range\n",
    "    \n",
    "    else:\n",
    "        \n",
    "        return False    # Return False if coordinates are inside the range\n",
    "    \n",
    "print(inside(1,1,0,0,2,3)) \n",
    "          \n",
    "print(inside(-1,-1,0,0,2,3))  "
   ]
  },
  {
   "cell_type": "code",
   "execution_count": 24,
   "id": "c1d0f4cb",
   "metadata": {},
   "outputs": [
    {
     "name": "stdout",
     "output_type": "stream",
     "text": [
      "False\n"
     ]
    }
   ],
   "source": [
    "## b\n",
    "\n",
    "def inside(x, y, x1, y1, x2, y2):\n",
    "        \n",
    "        \n",
    "    if x >= x1 and x <= x2 and y >= y1 and y <= y2:\n",
    "        \n",
    "        return True    # Return True if coordinates are inside the range\n",
    "    \n",
    "    else:\n",
    "        \n",
    "        return False   # Return False if coordinates are inside the range\n",
    "    \n",
    "print(inside(1,1,0.3,0.5,1.1,0.7)) and print(inside(1,1,0.5,0.2,1.1,2))\n",
    "          "
   ]
  },
  {
   "cell_type": "markdown",
   "id": "baa3cb4c",
   "metadata": {},
   "source": [
    "## Question 6\n",
    "16.You can turn a word into pig-Latin using the following two rules (simplified):<br>\n",
    "If the word starts with a consonant, move that letter to the end and append 'ay'. For example, 'happy' becomes 'appyhay' and 'pencil' becomes 'encilpay'.<br>\n",
    "If the word starts with a vowel, simply append 'way' to the end of the word. For example, 'enter' becomes 'enterway' and 'other' becomes 'otherway' . For our purposes, there are 5 vowels: a, e, i, o, u (so we count y as a consonant).<br>\n",
    "Write a function pig() that takes a word (i.e., a string) as input and returns its pig- Latin form. Your function should still work if the input word contains upper case characters. Your output should always be lower case however.<br>\n",
    "\n",
    "pig('happy') <br>\n",
    "'appyhay'<br>\n",
    "pig('Enter') <br>\n",
    "'enterway'\n"
   ]
  },
  {
   "cell_type": "code",
   "execution_count": 18,
   "id": "4c374d8c",
   "metadata": {},
   "outputs": [
    {
     "name": "stdout",
     "output_type": "stream",
     "text": [
      "appyhay\n",
      "enterway\n"
     ]
    }
   ],
   "source": [
    "def pig(word):  \n",
    "    \n",
    "    vowels = ['a','e','i','o','u']   # Define a list of vowels\n",
    "    \n",
    "    word = word.lower()     # Convert the word to lowercase\n",
    "    \n",
    "    if word[0] in vowels:   # Check if the first letter of the word is a vowel\n",
    "        \n",
    "        return word + 'way'  # If the first letter is a vowel, append 'way' to the word\n",
    "       \n",
    "    else:\n",
    "        \n",
    "        return word[1:] + word[0] + 'ay'  # If the first letter is a consonant, move the first letter to the end and append 'ay'\n",
    "    \n",
    "print(pig('happy'))\n",
    "\n",
    "print(pig('Enter'))"
   ]
  },
  {
   "cell_type": "markdown",
   "id": "12b34662",
   "metadata": {},
   "source": [
    "## Question 7\n",
    "File bloodtype1.txt records blood-types of patients (A, B, AB, O or OO) at a clinic. Write a function bldcount() that reads the file with name name and reports (i.e., prints) how many patients there are in each bloodtype.<br>\n",
    "\n",
    "bldcount('bloodtype.txt')<br>\n",
    "There are 10 patients of blood type A. <br>\n",
    "There is one patient of blood type B. <br>\n",
    "There are 10 patients of blood type AB. <br>\n",
    "There are 12 patients of blood type O. <br>\n",
    "There are no patients of blood type OO.\n"
   ]
  },
  {
   "cell_type": "code",
   "execution_count": 41,
   "id": "62a4c001",
   "metadata": {},
   "outputs": [
    {
     "name": "stdout",
     "output_type": "stream",
     "text": [
      "There are 15 patients of blood type A.\n",
      "There is one patient of blood type B.\n",
      "There are 13 patients of blood type AB.\n",
      "There are 15 patients of blood type O.\n",
      "There are no patients of blood type OO.\n"
     ]
    }
   ],
   "source": [
    " def bldcount(bloodtype1):\n",
    "    blood_counts = {'A': 0, 'B': 0, 'AB': 0, 'O': 0, 'OO': 0} # this initializes a dictionary blood_counts with blood types as keys and initial counts set to 0.\n",
    "\n",
    "    try:\n",
    "        with open(bloodtype1 + '.txt', 'r') as file:  #opens the file in read mode.\n",
    "            blood_types = file.read().split()   # split into a list of blood types.\n",
    "            \n",
    "         # use a loop to iterate through each blood type in the blood_types list\n",
    "            for blood_type in blood_types:\n",
    "                if blood_type in blood_counts:\n",
    "                    blood_counts[blood_type] += 1\n",
    "                    \n",
    "        #use another loop to iterate through the items (blood type and count) in the blood_counts dictionary.\n",
    "\n",
    "        for blood_type, count in blood_counts.items():\n",
    "            if count == 0:\n",
    "                print(f\"There are no patients of blood type {blood_type}.\")\n",
    "            elif count == 1:\n",
    "                print(f\"There is one patient of blood type {blood_type}.\")\n",
    "            else:\n",
    "                print(f\"There are {count} patients of blood type {blood_type}.\")\n",
    "\n",
    "    # check whether the file is found or not\n",
    "    except FileNotFoundError:\n",
    "        print(\"File not found.\")\n",
    "\n",
    "bldcount('bloodtype1')\n"
   ]
  },
  {
   "cell_type": "markdown",
   "id": "1947975d",
   "metadata": {},
   "source": [
    "## Question 8\n",
    "Write a function curconv() that takes as input:\n",
    "\n",
    "- 1.a currency represented using a string (e.g., 'JPY' for the Japanese Yen or 'EUR' for the Euro)<br>\n",
    "- 2.an amount<br>\n",
    "\n",
    "and then converts and returns the amount in US dollars.<br>\n",
    "\n",
    "\n",
    "curconv('EUR', 100)<br>\n",
    "\n",
    "122.96544<br>\n",
    "\n",
    "curconv('JPY', 100)<br>\n",
    "\n",
    "1.241401<br>\n",
    "\n",
    "The currency rates you will need are stored in file currencies.txt:<br>\n",
    "\n",
    "- AUD\t1.0345157\tAustralian Dollar\n",
    "- CHF\t1.0237414\tSwiss Franc\n",
    "- CNY\t0.1550176\tChinese Yuan\n",
    "- DKK\t0.1651442\tDanish Krone\n",
    "- EUR\t1.2296544\tEuro\n",
    "- GBP\t1.5550989\tBritish Pound\n",
    "- HKD\t0.1270207\tHong Kong Dollar\n",
    "- INR\t0.0177643\tIndian Rupee\n",
    "- JPY\t0.01241401\tJapanese Yen\n",
    "- MXN\t0.0751848\tMexican Peso\n",
    "- MYR\t0.3145411\tMalaysian Ringgit\n",
    "- NOK\t0.1677063\tNorwegian Krone\n",
    "- NZD\t0.8003591\tNew Zealand Dollar\n",
    "- PHP\t0.0233234\tPhilippine Peso\n",
    "- SEK\t0.148269\tSwedish Krona\n",
    "- SGD\t0.788871\tSingapore Dollar\n",
    "- THB\t0.0313789\tThai Baht\n"
   ]
  },
  {
   "cell_type": "code",
   "execution_count": 4,
   "id": "59bb3aa6",
   "metadata": {},
   "outputs": [
    {
     "name": "stdout",
     "output_type": "stream",
     "text": [
      "122.96544\n",
      "1.241401\n"
     ]
    }
   ],
   "source": [
    "def curconv(currency, amount):\n",
    "    currency_rates = {}  # Create an empty dictionary to store currency rates\n",
    "\n",
    "    try:\n",
    "        with open('currencies.txt', 'r') as file:    # Open the currencies.txt file in read mode\n",
    "            lines = file.readlines()\n",
    "            for line in lines:\n",
    "                tokens = line.strip().split()     # Split each line into tokens\n",
    "                currency_rates[tokens[0]] = float(tokens[1])  # Store the currency code as the key and the exchange rate as the value in the currency_rates dictionary\n",
    "\n",
    "        if currency in currency_rates:   # Check if the given currency is present in the currency_rates dictionary\n",
    "            usd_amount = amount * currency_rates[currency] # Convert the amount to USD by multiplying it with the exchange rate\n",
    "            return usd_amount\n",
    "        else:\n",
    "            print(\"Currency not found.\") # check the given currency is found or not in the dictionary\n",
    "            return None\n",
    "\n",
    "    except FileNotFoundError:\n",
    "        print(\"Currency rates file not found.\")    # check whether the file is found or not\n",
    "        return None\n",
    "\n",
    "print(curconv('EUR', 100))  # Convert EUR to USD\n",
    "\n",
    "print(curconv('JPY', 100))  # Convert JPY to USD"
   ]
  },
  {
   "cell_type": "markdown",
   "id": "f6980f9e",
   "metadata": {},
   "source": [
    "## Question 9\n",
    "Each of the following will cause an exception (an error). Identify what type of exception each will cause.<br>\n",
    "Trying to add incompatible variables, as in adding 6 + ‘a’<br>\n",
    "Referring to the 12th item of a list that has only 10 items<br>\n",
    "Using a value that is out of range for a function’s input, such as calling math.sqrt(-1.0)<br>\n",
    "Using an undeclared variable, such as print(x)<br>\n",
    "when x has not been defined<br>\n",
    "Trying to open a file that does not exist, such as mistyping the file name or looking in the wrong directory.\n"
   ]
  },
  {
   "cell_type": "code",
   "execution_count": 74,
   "id": "5f5e5fc8",
   "metadata": {},
   "outputs": [
    {
     "ename": "TypeError",
     "evalue": "unsupported operand type(s) for +: 'int' and 'str'",
     "output_type": "error",
     "traceback": [
      "\u001b[1;31m---------------------------------------------------------------------------\u001b[0m",
      "\u001b[1;31mTypeError\u001b[0m                                 Traceback (most recent call last)",
      "Cell \u001b[1;32mIn[74], line 3\u001b[0m\n\u001b[0;32m      1\u001b[0m \u001b[38;5;66;03m## Trying to add incompatible variables, as in adding 6 + ‘a’\u001b[39;00m\n\u001b[1;32m----> 3\u001b[0m x \u001b[38;5;241m=\u001b[39m \u001b[38;5;241;43m6\u001b[39;49m\u001b[43m \u001b[49m\u001b[38;5;241;43m+\u001b[39;49m\u001b[43m \u001b[49m\u001b[38;5;124;43m'\u001b[39;49m\u001b[38;5;124;43ma\u001b[39;49m\u001b[38;5;124;43m'\u001b[39;49m\n\u001b[0;32m      5\u001b[0m \u001b[38;5;28mprint\u001b[39m(x)\n",
      "\u001b[1;31mTypeError\u001b[0m: unsupported operand type(s) for +: 'int' and 'str'"
     ]
    }
   ],
   "source": [
    "## Trying to add incompatible variables, as in adding 6 + ‘a’\n",
    "\n",
    "x = 6 + 'a'\n",
    "\n",
    "print(x)"
   ]
  },
  {
   "cell_type": "code",
   "execution_count": 66,
   "id": "0c535493",
   "metadata": {},
   "outputs": [
    {
     "ename": "IndexError",
     "evalue": "list index out of range",
     "output_type": "error",
     "traceback": [
      "\u001b[1;31m---------------------------------------------------------------------------\u001b[0m",
      "\u001b[1;31mIndexError\u001b[0m                                Traceback (most recent call last)",
      "Cell \u001b[1;32mIn[66], line 5\u001b[0m\n\u001b[0;32m      1\u001b[0m \u001b[38;5;66;03m## Referring to the 12th item of a list that has only 10 items\u001b[39;00m\n\u001b[0;32m      3\u001b[0m list_item \u001b[38;5;241m=\u001b[39m [\u001b[38;5;241m0\u001b[39m,\u001b[38;5;241m1\u001b[39m,\u001b[38;5;241m2\u001b[39m,\u001b[38;5;241m3\u001b[39m,\u001b[38;5;241m4\u001b[39m,\u001b[38;5;241m5\u001b[39m,\u001b[38;5;241m6\u001b[39m,\u001b[38;5;241m7\u001b[39m,\u001b[38;5;241m8\u001b[39m,\u001b[38;5;241m9\u001b[39m]\n\u001b[1;32m----> 5\u001b[0m a \u001b[38;5;241m=\u001b[39m \u001b[43mlist_item\u001b[49m\u001b[43m[\u001b[49m\u001b[38;5;241;43m11\u001b[39;49m\u001b[43m]\u001b[49m\n\u001b[0;32m      7\u001b[0m \u001b[38;5;28mprint\u001b[39m(a)\n",
      "\u001b[1;31mIndexError\u001b[0m: list index out of range"
     ]
    }
   ],
   "source": [
    "## Referring to the 12th item of a list that has only 10 items\n",
    "\n",
    "list_item = [0,1,2,3,4,5,6,7,8,9]\n",
    "\n",
    "a = list_item[11]\n",
    "\n",
    "print(a)"
   ]
  },
  {
   "cell_type": "code",
   "execution_count": 59,
   "id": "b430cd94",
   "metadata": {},
   "outputs": [
    {
     "ename": "ValueError",
     "evalue": "math domain error",
     "output_type": "error",
     "traceback": [
      "\u001b[1;31m---------------------------------------------------------------------------\u001b[0m",
      "\u001b[1;31mValueError\u001b[0m                                Traceback (most recent call last)",
      "Cell \u001b[1;32mIn[59], line 5\u001b[0m\n\u001b[0;32m      1\u001b[0m \u001b[38;5;66;03m## Using a value that is out of range for a function’s input, such as calling math.sqrt(-1.0)\u001b[39;00m\n\u001b[0;32m      3\u001b[0m \u001b[38;5;28;01mimport\u001b[39;00m \u001b[38;5;21;01mmath\u001b[39;00m\n\u001b[1;32m----> 5\u001b[0m area \u001b[38;5;241m=\u001b[39m \u001b[43mmath\u001b[49m\u001b[38;5;241;43m.\u001b[39;49m\u001b[43msqrt\u001b[49m\u001b[43m(\u001b[49m\u001b[38;5;241;43m-\u001b[39;49m\u001b[38;5;241;43m1.0\u001b[39;49m\u001b[43m)\u001b[49m\n\u001b[0;32m      7\u001b[0m \u001b[38;5;28mprint\u001b[39m(area)\n",
      "\u001b[1;31mValueError\u001b[0m: math domain error"
     ]
    }
   ],
   "source": [
    "## Using a value that is out of range for a function’s input, such as calling math.sqrt(-1.0)\n",
    "\n",
    "import math\n",
    "\n",
    "area = math.sqrt(-1.0)\n",
    "            \n",
    "print(area)\n"
   ]
  },
  {
   "cell_type": "code",
   "execution_count": 55,
   "id": "e054c561",
   "metadata": {},
   "outputs": [
    {
     "ename": "NameError",
     "evalue": "name 'x' is not defined",
     "output_type": "error",
     "traceback": [
      "\u001b[1;31m---------------------------------------------------------------------------\u001b[0m",
      "\u001b[1;31mNameError\u001b[0m                                 Traceback (most recent call last)",
      "Cell \u001b[1;32mIn[55], line 5\u001b[0m\n\u001b[0;32m      1\u001b[0m \u001b[38;5;66;03m## Using an undeclared variable, such as print(x)  when x has not been defined\u001b[39;00m\n\u001b[0;32m      3\u001b[0m y\u001b[38;5;241m=\u001b[39m[\u001b[38;5;124m'\u001b[39m\u001b[38;5;124mone\u001b[39m\u001b[38;5;124m'\u001b[39m, \u001b[38;5;124m'\u001b[39m\u001b[38;5;124mtwo\u001b[39m\u001b[38;5;124m'\u001b[39m, \u001b[38;5;124m'\u001b[39m\u001b[38;5;124mthree\u001b[39m\u001b[38;5;124m'\u001b[39m]\n\u001b[1;32m----> 5\u001b[0m \u001b[38;5;28mprint\u001b[39m(\u001b[43mx\u001b[49m)\n",
      "\u001b[1;31mNameError\u001b[0m: name 'x' is not defined"
     ]
    }
   ],
   "source": [
    "## Using an undeclared variable, such as print(x)  when x has not been defined\n",
    "\n",
    "y=['one', 'two', 'three']\n",
    "\n",
    "print(x)\n"
   ]
  },
  {
   "cell_type": "code",
   "execution_count": 5,
   "id": "ccf04ee2",
   "metadata": {},
   "outputs": [
    {
     "name": "stdout",
     "output_type": "stream",
     "text": [
      "File not found.\n"
     ]
    }
   ],
   "source": [
    " ##Trying to open a file that does not exist, such as mistyping the file name or looking in the wrong directory.\n",
    "    \n",
    " def bldcount(bloodtype):\n",
    "    blood_counts = {'A': 0, 'B': 0, 'AB': 0, 'O': 0, 'OO': 0}\n",
    "\n",
    "    try:\n",
    "        with open(bloodtype + '.txt', 'r') as file:\n",
    "            blood_types = file.read().split()\n",
    "\n",
    "            for blood_type in blood_types:\n",
    "                if blood_type in blood_counts:\n",
    "                    blood_counts[blood_type] += 1\n",
    "\n",
    "        for blood_type, count in blood_counts.items():\n",
    "            if count == 0:\n",
    "                print(f\"There are no patients of blood type {blood_type}.\")\n",
    "            elif count == 1:\n",
    "                print(f\"There is one patient of blood type {blood_type}.\")\n",
    "            else:\n",
    "                print(f\"There are {count} patients of blood type {blood_type}.\")\n",
    "\n",
    "    except FileNotFoundError:\n",
    "        print(\"File not found.\")\n",
    "\n",
    "bldcount('bloodtype')\n"
   ]
  },
  {
   "cell_type": "markdown",
   "id": "edff293c",
   "metadata": {},
   "source": [
    "## Question 10\n",
    "Encryption is the process of hiding the meaning of a text by substituting letters in the message with other letters, according to some system. If the process is successful, no one but the intended recipient can understand the encrypted message. Cryptanalysis refers to attempts to undo the encryption, even if some details of the encryption are unknown (for example, if an encrypted message has been intercepted). The first step of cryptanalysis is often to build up a table of letter frequencies in the encrypted text. Assume that the string letters is already defined as 'abcdefghijklmnopqrstuvwxyz'. Write a function called frequencies() that takes a string as its only parameter, and returns a list of integers, showing the number of times each character appears in the text. Your function may ignore any characters that are not in letters.\n",
    "\n",
    "- frequencies('The quick red fox got bored and went home.') [1, 1, 1, 3, 5, 1, 1, 2, 1, 0, 1, 0, 1, 2, 4, 0, 1, 2, 0, 2,\n",
    "1, 0, 1, 1, 0, 0]\n",
    "-  frequencies('apple')\n"
   ]
  },
  {
   "cell_type": "code",
   "execution_count": 9,
   "id": "774f8006",
   "metadata": {},
   "outputs": [
    {
     "name": "stdout",
     "output_type": "stream",
     "text": [
      "[1, 1, 1, 3, 5, 1, 1, 2, 1, 0, 1, 0, 1, 2, 4, 0, 1, 2, 0, 3, 1, 0, 1, 1, 0, 0]\n",
      "[1, 0, 0, 0, 1, 0, 0, 0, 0, 0, 0, 1, 0, 0, 0, 2, 0, 0, 0, 0, 0, 0, 0, 0, 0, 0]\n"
     ]
    }
   ],
   "source": [
    "def frequencies(text):\n",
    "    \n",
    "    letters = 'abcdefghijklmnopqrstuvwxyz' # Define the string of letters to consider for frequency counting\n",
    "    \n",
    "    frequency_list = []    # Create an empty list to store the frequencies of each character\n",
    "    \n",
    "    for char in letters:  # Iterate over each character in the 'letters' string\n",
    "        \n",
    "        value = text.lower().count(char) # Count the occurrences of the current character in the input text (case-insensitive)\n",
    "        \n",
    "        frequency_list.append(value)  # Append the frequency value to the frequency list\n",
    "    \n",
    "    return frequency_list   # Return the list of frequencies\n",
    "\n",
    "print(frequencies('The quick red fox got bored and went home.'))\n",
    "\n",
    "print(frequencies('apple'))"
   ]
  }
 ],
 "metadata": {
  "kernelspec": {
   "display_name": "Python 3 (ipykernel)",
   "language": "python",
   "name": "python3"
  },
  "language_info": {
   "codemirror_mode": {
    "name": "ipython",
    "version": 3
   },
   "file_extension": ".py",
   "mimetype": "text/x-python",
   "name": "python",
   "nbconvert_exporter": "python",
   "pygments_lexer": "ipython3",
   "version": "3.10.9"
  }
 },
 "nbformat": 4,
 "nbformat_minor": 5
}
